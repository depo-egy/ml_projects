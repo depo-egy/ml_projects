{
 "cells": [
  {
   "cell_type": "code",
   "execution_count": 1,
   "id": "ee20f4c3-11d3-4d61-aea1-f3dec0eefd5b",
   "metadata": {},
   "outputs": [],
   "source": [
    "import pandas as pd\n",
    "import numpy as np\n"
   ]
  },
  {
   "cell_type": "code",
   "execution_count": 3,
   "id": "0112116b-b4c5-4ffd-bd6e-34726183889b",
   "metadata": {},
   "outputs": [],
   "source": [
    "import os"
   ]
  },
  {
   "cell_type": "code",
   "execution_count": 9,
   "id": "a6bf6472-8107-4463-9bd2-8937baec4b68",
   "metadata": {},
   "outputs": [
    {
     "name": "stderr",
     "output_type": "stream",
     "text": [
      "<>:1: SyntaxWarning: invalid escape sequence '\\P'\n",
      "<>:1: SyntaxWarning: invalid escape sequence '\\P'\n",
      "C:\\Users\\pc\\AppData\\Local\\Temp\\ipykernel_14348\\1826581611.py:1: SyntaxWarning: invalid escape sequence '\\P'\n",
      "  os.chdir('D:\\Projects\\\\abbott')\n"
     ]
    }
   ],
   "source": [
    "os.chdir('D:\\Projects\\\\abbott')"
   ]
  },
  {
   "cell_type": "code",
   "execution_count": null,
   "id": "29e02e66-bec7-4ab3-9c11-f6e512f87f75",
   "metadata": {},
   "outputs": [],
   "source": [
    "data = pd.read_excel(\"Online Retail.xlsx\")"
   ]
  },
  {
   "cell_type": "code",
   "execution_count": null,
   "id": "16d7540b-e7e0-4dda-bd2c-5a1fe1f56a41",
   "metadata": {},
   "outputs": [],
   "source": [
    "data.head()"
   ]
  },
  {
   "cell_type": "code",
   "execution_count": null,
   "id": "8cd40513-6734-413f-b04d-f8d5d4b20f8e",
   "metadata": {},
   "outputs": [],
   "source": []
  }
 ],
 "metadata": {
  "kernelspec": {
   "display_name": "Python 3 (ipykernel)",
   "language": "python",
   "name": "python3"
  },
  "language_info": {
   "codemirror_mode": {
    "name": "ipython",
    "version": 3
   },
   "file_extension": ".py",
   "mimetype": "text/x-python",
   "name": "python",
   "nbconvert_exporter": "python",
   "pygments_lexer": "ipython3",
   "version": "3.12.4"
  }
 },
 "nbformat": 4,
 "nbformat_minor": 5
}
